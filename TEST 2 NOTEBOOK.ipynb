{
 "cells": [
  {
   "cell_type": "code",
   "execution_count": 1,
   "metadata": {},
   "outputs": [],
   "source": [
    "import matplotlib\n",
    "from matplotlib.pyplot import *\n",
    "from numpy import *\n",
    "import pylab as plt"
   ]
  },
  {
   "cell_type": "code",
   "execution_count": 38,
   "metadata": {},
   "outputs": [
    {
     "ename": "TypeError",
     "evalue": "'int' object is not callable",
     "output_type": "error",
     "traceback": [
      "\u001b[0;31m---------------------------------------------------------------------------\u001b[0m",
      "\u001b[0;31mTypeError\u001b[0m                                 Traceback (most recent call last)",
      "\u001b[0;32m<ipython-input-38-8c104b17901f>\u001b[0m in \u001b[0;36m<module>\u001b[0;34m\u001b[0m\n\u001b[1;32m     27\u001b[0m     \u001b[0;32mreturn\u001b[0m \u001b[0mre\u001b[0m\u001b[0;34m\u001b[0m\u001b[0;34m\u001b[0m\u001b[0m\n\u001b[1;32m     28\u001b[0m \u001b[0;34m\u001b[0m\u001b[0m\n\u001b[0;32m---> 29\u001b[0;31m \u001b[0mprint\u001b[0m\u001b[0;34m(\u001b[0m\u001b[0mgaussian\u001b[0m\u001b[0;34m(\u001b[0m\u001b[0;36m0\u001b[0m\u001b[0;34m)\u001b[0m\u001b[0;34m)\u001b[0m\u001b[0;34m\u001b[0m\u001b[0;34m\u001b[0m\u001b[0m\n\u001b[0m",
      "\u001b[0;32m<ipython-input-38-8c104b17901f>\u001b[0m in \u001b[0;36mgaussian\u001b[0;34m(g)\u001b[0m\n\u001b[1;32m     23\u001b[0m \u001b[0;32mdef\u001b[0m \u001b[0mgaussian\u001b[0m\u001b[0;34m(\u001b[0m\u001b[0mg\u001b[0m\u001b[0;34m)\u001b[0m\u001b[0;34m:\u001b[0m\u001b[0;34m\u001b[0m\u001b[0;34m\u001b[0m\u001b[0m\n\u001b[1;32m     24\u001b[0m     \u001b[0mxs\u001b[0m\u001b[0;34m,\u001b[0m \u001b[0mAs\u001b[0m \u001b[0;34m=\u001b[0m \u001b[0mnodesAndWeights\u001b[0m\u001b[0;34m(\u001b[0m\u001b[0;36m4\u001b[0m\u001b[0;34m)\u001b[0m\u001b[0;34m\u001b[0m\u001b[0;34m\u001b[0m\u001b[0m\n\u001b[0;32m---> 25\u001b[0;31m     \u001b[0mre\u001b[0m\u001b[0;34m=\u001b[0m\u001b[0mh\u001b[0m\u001b[0;34m(\u001b[0m\u001b[0;36m0\u001b[0m\u001b[0;34m)\u001b[0m\u001b[0;34m*\u001b[0m\u001b[0mg\u001b[0m\u001b[0;34m(\u001b[0m\u001b[0mxs\u001b[0m\u001b[0;34m[\u001b[0m\u001b[0;36m0\u001b[0m\u001b[0;34m]\u001b[0m\u001b[0;34m)\u001b[0m\u001b[0;34m\u001b[0m\u001b[0;34m\u001b[0m\u001b[0m\n\u001b[0m\u001b[1;32m     26\u001b[0m     \u001b[0;31m#print(array(list(map(g,x))))\u001b[0m\u001b[0;34m\u001b[0m\u001b[0;34m\u001b[0m\u001b[0;34m\u001b[0m\u001b[0m\n\u001b[1;32m     27\u001b[0m     \u001b[0;32mreturn\u001b[0m \u001b[0mre\u001b[0m\u001b[0;34m\u001b[0m\u001b[0;34m\u001b[0m\u001b[0m\n",
      "\u001b[0;31mTypeError\u001b[0m: 'int' object is not callable"
     ]
    }
   ],
   "source": [
    "def h(i):\n",
    "    return 2**(i+1)*((1/(i+1))+(1/(i+3)))# you may define this function here\n",
    "\n",
    "# you may use this function if you wish.\n",
    "def nodesAndWeights(n):\n",
    "    B = array([[0.]*(n+1)]*(n+1))\n",
    "    u = array([0.]*(n+1))\n",
    "    for k in range(n+1):\n",
    "        u[k] = - h(n+1+k)\n",
    "        for i in range(n+1):\n",
    "            B[k,i] = h(k+i)\n",
    "    cs = linalg.solve(B,u)\n",
    "    cs = append(cs,[1]) \n",
    "    xs = roots(cs[::-1]).real\n",
    "    As = array([0.]*(n+1))\n",
    "    for k in range(n+1):\n",
    "        u[k] = h(k)\n",
    "        for i in range(n+1):\n",
    "            B[k,i] = xs[i]**k\n",
    "    As = linalg.solve(B,u)\n",
    "    return xs, As\n",
    "\n",
    "def gaussian(g):\n",
    "    xs, As = nodesAndWeights(4)\n",
    "    re=h(0)*g(xs[0])\n",
    "    #print(array(list(map(g,x))))\n",
    "    return re\n",
    "\n",
    "print(gaussian(0))\n"
   ]
  },
  {
   "cell_type": "code",
   "execution_count": 36,
   "metadata": {},
   "outputs": [
    {
     "name": "stdout",
     "output_type": "stream",
     "text": [
      "[1.91300195 1.56503089 1.03420033 0.48090706 0.09746359]\n",
      "2.6666666666666665\n"
     ]
    }
   ],
   "source": [
    "xs, As = nodesAndWeights(4)\n",
    "print(xs)\n",
    "print(h(0))"
   ]
  },
  {
   "cell_type": "code",
   "execution_count": 20,
   "metadata": {},
   "outputs": [
    {
     "name": "stdout",
     "output_type": "stream",
     "text": [
      "2.6666666666666665\n"
     ]
    }
   ],
   "source": [
    "print(h(0))"
   ]
  },
  {
   "cell_type": "code",
   "execution_count": 26,
   "metadata": {},
   "outputs": [],
   "source": [
    "def montecarlo(N,f):\n",
    "    n=0 # set the counter of the points inside to zero N=10000 (Chosen or given) # total number of ‘experiments ‘\n",
    "    for i in range(N):\n",
    "        x = random.uniform(0,3)\n",
    "        y = random.uniform(0,6)#Square taken S\n",
    "        if (x*f(x)>y): #inside GIVEN FUNCTION LOOKING FOR INTEGRAL\n",
    "            n = n+1 # increase the counter of the points inside\n",
    "    p1 = n/N # our estimate for the probability\n",
    "    S1 = p1*3*6 # our estimate for the area #2*2 square of total area\n",
    "    error=3*6*sqrt(p1*(1-p1))/(sqrt(N))\n",
    "    return S1# error of the approximation Sxsqrt(S1xS2/N)"
   ]
  },
  {
   "cell_type": "code",
   "execution_count": null,
   "metadata": {},
   "outputs": [],
   "source": []
  },
  {
   "cell_type": "code",
   "execution_count": 27,
   "metadata": {},
   "outputs": [
    {
     "name": "stdout",
     "output_type": "stream",
     "text": [
      "0.0\n"
     ]
    }
   ],
   "source": [
    "a = montecarlo(10,lambda x: 0)\n",
    "print(a)"
   ]
  },
  {
   "cell_type": "code",
   "execution_count": 15,
   "metadata": {},
   "outputs": [
    {
     "name": "stdout",
     "output_type": "stream",
     "text": [
      "[0. 1. 3.]\n",
      "[1.0, 2.0, 3.0]\n"
     ]
    }
   ],
   "source": [
    "def euler(x):\n",
    "    N=100\n",
    "    h = x/N\n",
    "    ys = zeros([N+1,3])\n",
    "    ys[0] = array([1,2,3])\n",
    "    xs = arange(0,x+h,h)\n",
    "    for i in range(N):\n",
    "        ys[i+1] = ys[i] + h*F(i*h,ys[i])\n",
    "    return ys[-1]\n",
    "\n",
    "def F(x,yvec):\n",
    "    res = zeros(yvec.size)\n",
    "    res[0]=2*x\n",
    "    res[1]=yvec[0]\n",
    "    res[2]=3*x**2+yvec[2]\n",
    "    return res\n",
    "print(F(0,array([1,2,3])))\n",
    "print([round(euler(0.0001)[0],2),round(euler(0.0001)[1],2),round(euler(0.0001)[2],2)])"
   ]
  },
  {
   "cell_type": "code",
   "execution_count": 17,
   "metadata": {},
   "outputs": [],
   "source": [
    "def relaxation(init): #Take average of sorrounding values without extremities\n",
    "    res = init[:]\n",
    "    for x in range(1,30):\n",
    "        for y in range(1,30):\n",
    "            res[x,y] = (init[x-1,y]+init[x+1,y]+4*init[x,y-1]+4*init[x,y+1])/10\n",
    "    return res"
   ]
  },
  {
   "cell_type": "code",
   "execution_count": null,
   "metadata": {},
   "outputs": [],
   "source": []
  }
 ],
 "metadata": {
  "kernelspec": {
   "display_name": "Python 3",
   "language": "python",
   "name": "python3"
  },
  "language_info": {
   "codemirror_mode": {
    "name": "ipython",
    "version": 3
   },
   "file_extension": ".py",
   "mimetype": "text/x-python",
   "name": "python",
   "nbconvert_exporter": "python",
   "pygments_lexer": "ipython3",
   "version": "3.8.3"
  }
 },
 "nbformat": 4,
 "nbformat_minor": 4
}
