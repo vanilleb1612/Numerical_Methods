{
 "cells": [
  {
   "cell_type": "code",
   "execution_count": 2,
   "metadata": {},
   "outputs": [],
   "source": [
    "import matplotlib\n",
    "from matplotlib.pyplot import *\n",
    "from numpy import *\n",
    "import pylab as plt\n",
    "from mpmath import *\n",
    "mp.dps=100"
   ]
  },
  {
   "cell_type": "code",
   "execution_count": 3,
   "metadata": {},
   "outputs": [],
   "source": [
    "def newton(f,df,x0,precision):\n",
    "    n=0\n",
    "    x = [x0]\n",
    "    while (abs(f(x[-1]))>10**(-precision)) and (n<10):\n",
    "        n+=1\n",
    "        print(n,x[-1])\n",
    "        x.append(x[-1]-f(x[-1])/df(x[-1]))\n",
    "    return x"
   ]
  },
  {
   "cell_type": "code",
   "execution_count": 4,
   "metadata": {},
   "outputs": [],
   "source": [
    "def secant(f,x0,xm1):\n",
    "    xs=[xm1,x0]\n",
    "    for i in range(10):\n",
    "        print(xs[-1])\n",
    "        xs.append( (xs[-1]*f(xs[-2])-xs[-2]*f(xs[-1])) / (f(xs[-2])-f(xs[-1])) )\n",
    "    return xs[-1]"
   ]
  },
  {
   "cell_type": "code",
   "execution_count": 5,
   "metadata": {},
   "outputs": [],
   "source": [
    "def f(y):\n",
    "    return cos(y)"
   ]
  },
  {
   "cell_type": "code",
   "execution_count": 6,
   "metadata": {},
   "outputs": [],
   "source": [
    "#secant(f,0,pi)"
   ]
  },
  {
   "cell_type": "code",
   "execution_count": 7,
   "metadata": {},
   "outputs": [],
   "source": [
    "def bisection(f,a,b):\n",
    "    for i in range(20):#May need to increase i for better aprox\n",
    "        c = (a+b)/2\n",
    "        if abs(f(c))<1/10**10:\n",
    "            print(\"zero found: \",c)\n",
    "            return c\n",
    "        if f(a)*f(c)<0:\n",
    "            print(f(c))\n",
    "            b=c\n",
    "            print(a,b)\n",
    "        else:\n",
    "            print(f(c))\n",
    "            a=c\n",
    "            print(a,b)\n",
    "        print(\"[\",a,\",\",b,\"]: f(\",c,\")=\",f(c))"
   ]
  },
  {
   "cell_type": "code",
   "execution_count": 8,
   "metadata": {},
   "outputs": [],
   "source": [
    "def f(y):\n",
    "    return y**2 - 2\n",
    "\n",
    "def df(y):\n",
    "    return y*2"
   ]
  },
  {
   "cell_type": "code",
   "execution_count": 9,
   "metadata": {},
   "outputs": [],
   "source": [
    "#Lagrange interpolation\n",
    "def pi(x,i,xs):\n",
    "    xi = xs[i]\n",
    "    res = 1\n",
    "    for xj in xs:\n",
    "        if xj != xi:\n",
    "            res = res * (x-xj)/(xi-xj)\n",
    "    print(res)\n",
    "    return res\n",
    "\n",
    "def lagrange(x,ys,xs):\n",
    "    res = 0\n",
    "    for i in range(len(ys)):\n",
    "        res = res + ys[i]*pip(x,i,xs)\n",
    "        print(res)\n",
    "    return res"
   ]
  },
  {
   "cell_type": "code",
   "execution_count": 10,
   "metadata": {},
   "outputs": [],
   "source": [
    "#Polynomial fit\n",
    "def findas(m,xs,ys):\n",
    "    A=array([[0]*(m+1)]*(m+1))\n",
    "    b=array([0]*(m+1))\n",
    "    for k in range(m+1):\n",
    "        b[k]=sum(xs**k*ys)\n",
    "        print(b[k])\n",
    "        for i in range(m+1):\n",
    "            A[k,i]= sum(xs**(i+k))\n",
    "            print(A[k,i])\n",
    "    coefs=linalg.solve(A,b)\n",
    "    print(coefs)\n",
    "    def fit(x):\n",
    "        return sum(coefs*(x**array(range(len(coefs)))))\n",
    "    return fit"
   ]
  },
  {
   "cell_type": "code",
   "execution_count": 11,
   "metadata": {},
   "outputs": [],
   "source": [
    "#xs = array([])\n",
    "#ys = array ([])\n",
    "#findas(2,xs,ys)"
   ]
  },
  {
   "cell_type": "code",
   "execution_count": 12,
   "metadata": {},
   "outputs": [],
   "source": [
    "def findbiggest(row):\n",
    "    absrow = [abs(r) for r in row]\n",
    "    return absrow.index(max(absrow))\n",
    "def swap(A,b,i,j):\n",
    "    Atmp = array(A[i])\n",
    "    A[i] = A[j]\n",
    "    A[j] = Atmp\n",
    "    btmp = b[i]\n",
    "    b[i] = b[j] \n",
    "    b[j] = btmp"
   ]
  },
  {
   "cell_type": "code",
   "execution_count": 13,
   "metadata": {},
   "outputs": [],
   "source": [
    "def gauss(A,b):\n",
    "    n = len(b)\n",
    "    # elimination phase\n",
    "    for j in range(0,n-1): #iteration over pivots\n",
    "        swap(A,b,j+findbiggest(A[j:,j]),j) \n",
    "        print('nA',A,b)# PIVOTING\n",
    "        for i in range(j+1,n): #iteration over lines below pivot\n",
    "            lam = A[i,j]/A[j,j]\n",
    "            print('lambda=',lam)\n",
    "            A[i] = A[i] - lam*A[j] # update line i of matrix A\n",
    "            b[i] = b[i] - lam*b[j]\n",
    "            print('lastA',A,b)\n",
    "            # update element i  of vector b\n",
    "    # substitution phase\n",
    "    x = zeros(n)\n",
    "    print(A,b)\n",
    "    for j in range(n-1,-1,-1):\n",
    "        x[j]  = b[j]/A[j,j]\n",
    "        b = b - x[j]*A[:,j]\n",
    "    return x"
   ]
  },
  {
   "cell_type": "code",
   "execution_count": 14,
   "metadata": {},
   "outputs": [],
   "source": [
    "#Trapezoidal Rule\n",
    "def trapezoidal(f,a,b,n):\n",
    "    fs = list(map(lambda x: f(x), arange(a,b+(b-a)/n,(b-a)/n)))\n",
    "    return (sum(fs)-(fs[0]+fs[-1])*0.5)*(b-a)/n"
   ]
  },
  {
   "cell_type": "code",
   "execution_count": 15,
   "metadata": {},
   "outputs": [],
   "source": [
    "#Midpoint Rule\n",
    "def midpoint(f,a,b,n):\n",
    "    fs = list(map(lambda x: f(x), arange(a+(b-a)/2/n,b+(b-a)/2/n,(b-a)/n)))\n",
    "    return sum(fs)*(b-a)/n"
   ]
  },
  {
   "cell_type": "code",
   "execution_count": 16,
   "metadata": {},
   "outputs": [],
   "source": [
    "def simpson1(f,a,b,n):\n",
    "    h=(b-a)/n\n",
    "    for i in range(n):\n",
    "        res=f(a+h/2+i*h)*2*h/3\n",
    "    for j in range(1,n):\n",
    "        ras=f(a+j*h)*h/3\n",
    "    return res+ras+(h/6)*(f(a)+f(b))"
   ]
  },
  {
   "cell_type": "code",
   "execution_count": 17,
   "metadata": {},
   "outputs": [],
   "source": [
    "def simpson(f,a,b,n):\n",
    "    return (trapezoidal(f,a,b,n)+2*midpoint(f,a,b,n))/3"
   ]
  },
  {
   "cell_type": "code",
   "execution_count": 18,
   "metadata": {},
   "outputs": [],
   "source": [
    "#Gaussian Integration\n",
    "a,b = 0,1 #Define beg and end of integration\n",
    "\n",
    "def w(x):                           #Given\n",
    "    return x**2\n",
    "\n",
    "from scipy import integrate\n",
    "def h(k): #Find h(k)s\n",
    "    return integrate.quad(lambda x: w(x)*x**k,a,b)[0]\n",
    "\n",
    "def nodesAndWeights(n):\n",
    "    # finding xi\n",
    "    B = array([[0.]*(n+1)]*(n+1))    # arrays of 0's, with \"0.\" we tell python that these are floating point numbers\n",
    "    u = array([0.]*(n+1))\n",
    "    for k in range(n+1):\n",
    "        u[k] = - h(n+1+k)\n",
    "        print('u(k)=',u[k],'k',k)\n",
    "        for i in range(n+1):\n",
    "            B[k,i] = h(k+i)\n",
    "    cs = linalg.solve(B,u)\n",
    "    cs = append(cs,[1]) \n",
    "    print(cs)# must add last coefficient which is 1 for x^(n+1)\n",
    "    xs = roots(cs[::-1]).real   # roots calculates roots of polynomial, but with inverse order of coefficients (zeros of phi function)\n",
    "    # finding Ai\n",
    "    As = array([0.]*(n+1))\n",
    "    for m in range(n+1): #m was written as k but i notes is m\n",
    "        u[m] = h(m)\n",
    "        for i in range(n+1):\n",
    "            B[m,i] = xs[i]**m\n",
    "    As = linalg.solve(B,u)\n",
    "    return xs, As\n",
    "\n",
    "def gauss(f,A,x):\n",
    "    print(array(list(map(f,x))))\n",
    "    return sum(A*array(list(map(f,x))))"
   ]
  },
  {
   "cell_type": "code",
   "execution_count": 19,
   "metadata": {},
   "outputs": [
    {
     "name": "stdout",
     "output_type": "stream",
     "text": [
      "0.33333333333333337 0.25 0.20000000000000004 0.16666666666666669\n",
      "u(k)= -0.20000000000000004 k 0\n",
      "u(k)= -0.16666666666666669 k 1\n",
      "[ 0.4        -1.33333333  1.        ]\n"
     ]
    },
    {
     "data": {
      "text/plain": [
       "(array([0.87748518, 0.45584816]), array([0.23254745, 0.10078588]))"
      ]
     },
     "execution_count": 19,
     "metadata": {},
     "output_type": "execute_result"
    }
   ],
   "source": [
    "print(h(0),h(1),h(2),h(3))\n",
    "nodesAndWeights(1)"
   ]
  },
  {
   "cell_type": "code",
   "execution_count": 20,
   "metadata": {},
   "outputs": [],
   "source": [
    "#Monte Carlo Method\n",
    "n=0 # set the counter of the points inside to zero N=10000 (Chosen or given) # total number of ‘experiments ‘\n",
    "N = 10000\n",
    "for i in range(N):\n",
    "    x = random.uniform(-1,1)\n",
    "    y = random.uniform(-1,1)#Square taken S\n",
    "    if (x**2+y**2<1): #inside GIVEN FUNCTION LOOKING FOR INTEGRAL\n",
    "        n = n+1 # increase the counter of the points inside\n",
    "p1 = n/N # our estimate for the probability\n",
    "S1 = p1*2*2 # our estimate for the area #2*2 square of total area\n",
    "error=2*2*sqrt(p1*(1-p1))/(sqrt(N)) # error of the approximation Sxsqrt(S1xS2/N)"
   ]
  }
 ],
 "metadata": {
  "kernelspec": {
   "display_name": "Python 3",
   "language": "python",
   "name": "python3"
  },
  "language_info": {
   "codemirror_mode": {
    "name": "ipython",
    "version": 3
   },
   "file_extension": ".py",
   "mimetype": "text/x-python",
   "name": "python",
   "nbconvert_exporter": "python",
   "pygments_lexer": "ipython3",
   "version": "3.8.3"
  }
 },
 "nbformat": 4,
 "nbformat_minor": 4
}
