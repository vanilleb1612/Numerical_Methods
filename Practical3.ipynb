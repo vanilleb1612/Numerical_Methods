{
 "cells": [
  {
   "cell_type": "code",
   "execution_count": 1,
   "metadata": {},
   "outputs": [],
   "source": [
    "from numpy import*\n",
    "import matplotlib\n",
    "from matplotlib.pyplot import *\n",
    "import pylab as plt"
   ]
  },
  {
   "cell_type": "code",
   "execution_count": 2,
   "metadata": {},
   "outputs": [],
   "source": [
    " def simpson(f,a,b,n):\n",
    "    h=(b-a)/n\n",
    "    for i in range(n):\n",
    "        res=f(a+h/2+i*h)*2*h/3\n",
    "    for j in range(1,n):\n",
    "        ras=f(a+i*h)*h/3\n",
    "    return res+ras+(h/6)*(f(a)+f(b))"
   ]
  },
  {
   "cell_type": "code",
   "execution_count": 3,
   "metadata": {},
   "outputs": [],
   "source": [
    "def f(x):\n",
    "    return e**(-x**2/2)"
   ]
  },
  {
   "cell_type": "code",
   "execution_count": 4,
   "metadata": {},
   "outputs": [],
   "source": [
    "def simpsonf(f,a,b,n):\n",
    "    ft = list(map(lambda x: f(x), arange(a,b+(b-a)/n,(b-a)/n)))\n",
    "    fm = list(map(lambda x: f(x), arange(a+(b-a)/2/n,b+(b-a)/2/n,(b-a)/n)))\n",
    "    return ((sum(ft)-(ft[0]+ft[-1])*0.5)*(b-a)/n+2*(sum(fm)*(b-a)/n))/3"
   ]
  },
  {
   "cell_type": "code",
   "execution_count": 5,
   "metadata": {},
   "outputs": [
    {
     "name": "stdout",
     "output_type": "stream",
     "text": [
      "2.5066266569372226\n",
      "2.5066282746310002 3.726653172078671e-06\n"
     ]
    }
   ],
   "source": [
    "print(simpsonf(f,-5,5,10))\n",
    "print(sqrt(2*pi),exp(-5**2/2))"
   ]
  },
  {
   "cell_type": "code",
   "execution_count": 6,
   "metadata": {},
   "outputs": [],
   "source": [
    "def midpoint(f,a,b,h):\n",
    "    fs = list(map(lambda y: f(y), arange(a+h/2,b+h/2,h)))\n",
    "    return sum(fs)*h"
   ]
  },
  {
   "cell_type": "code",
   "execution_count": 7,
   "metadata": {},
   "outputs": [],
   "source": [
    "def Integrator(f,x):\n",
    "    h=0.2\n",
    "    if x>-2:\n",
    "        newx=round((x+2)/h)*h-2\n",
    "        return midpoint(f,-2,newx,h)\n",
    "    else:\n",
    "        newx=-2-round((-2-x)/h)*h\n",
    "        return -midpoint(f,newx,-2,h)"
   ]
  },
  {
   "cell_type": "code",
   "execution_count": 8,
   "metadata": {},
   "outputs": [],
   "source": [
    "def Integrator2(f,x):\n",
    "    h=0.2\n",
    "    if x>-2:\n",
    "        newx=x\n",
    "        return midpoint(f,-2,newx,h)\n",
    "    else:\n",
    "        newx=x\n",
    "        return -midpoint(f,newx,-2,h)"
   ]
  },
  {
   "cell_type": "code",
   "execution_count": 9,
   "metadata": {},
   "outputs": [],
   "source": [
    "def g(y):\n",
    "    return y**2"
   ]
  },
  {
   "cell_type": "code",
   "execution_count": 10,
   "metadata": {},
   "outputs": [
    {
     "data": {
      "text/plain": [
       "[<matplotlib.lines.Line2D at 0x7ff7ce733250>]"
      ]
     },
     "execution_count": 10,
     "metadata": {},
     "output_type": "execute_result"
    },
    {
     "data": {
      "image/png": "[encoded data removed]",
      "text/plain": [
       "<Figure size 432x288 with 1 Axes>"
      ]
     },
     "metadata": {
      "needs_background": "light"
     },
     "output_type": "display_data"
    }
   ],
   "source": [
    "xs= linspace(-4,4,2000)\n",
    "ys= [Integrator(g,i)for i in linspace(-4,4,2000)]\n",
    "plt.plot(xs,ys)\n",
    "plt.plot(xs,[(x**3+8)/3 for x in xs])"
   ]
  },
  {
   "cell_type": "code",
   "execution_count": 11,
   "metadata": {},
   "outputs": [
    {
     "data": {
      "text/plain": [
       "[<matplotlib.lines.Line2D at 0x7ff7ce7cc580>]"
      ]
     },
     "execution_count": 11,
     "metadata": {},
     "output_type": "execute_result"
    },
    {
     "data": {
      "image/png": "[encoded data removed]",
      "text/plain": [
       "<Figure size 432x288 with 1 Axes>"
      ]
     },
     "metadata": {
      "needs_background": "light"
     },
     "output_type": "display_data"
    }
   ],
   "source": [
    "xs= linspace(-4,4,2000)\n",
    "ys= [Integrator2(g,xs[i]) for i in range(2000)]\n",
    "plt.plot(xs,ys)\n",
    "plt.plot(xs,[(x**3+8)/3 for x in xs])"
   ]
  },
  {
   "cell_type": "code",
   "execution_count": 12,
   "metadata": {},
   "outputs": [],
   "source": [
    "# alpha is a list, a is the initial point [a,b] is the interval on which we want solution\n",
    "# N is the number of subintervals, so that h = (b-a)/N is the small increment\n",
    "def euler(alpha,a,b,N,F):\n",
    "    h = (b-a)/N\n",
    "    ys = zeros([N+1,alpha.size])\n",
    "    ys[0] = alpha\n",
    "    xs = arange(a,b+h/2,h)\n",
    "    for i in range(N):\n",
    "        xi=a+i*h\n",
    "        ys[i+1] = ys[i] + h*F(xi,ys[i])\n",
    "    return xs,ys[:,0]"
   ]
  },
  {
   "cell_type": "code",
   "execution_count": 13,
   "metadata": {},
   "outputs": [
    {
     "data": {
      "image/png": "[encoded data removed]",
      "text/plain": [
       "<Figure size 432x288 with 1 Axes>"
      ]
     },
     "metadata": {
      "needs_background": "light"
     },
     "output_type": "display_data"
    }
   ],
   "source": [
    "def Fnthorder(x,yvec):\n",
    "    res = zeros(yvec.size)\n",
    "    for i in range(yvec.size-1):\n",
    "        res[i] = yvec[i+1]\n",
    "    res[yvec.size-1] = f(x,yvec)\n",
    "    return res\n",
    "\n",
    "def f(x,yvec):\n",
    "    return -yvec[1]\n",
    "\n",
    "alpha=array([0.,1.])\n",
    "xs,ys=euler(alpha,0,10,1000,Fnthorder)\n",
    "import matplotlib.pylab as plt\n",
    "plt.plot(xs,ys)\n",
    "plt.plot(xs,1-e**(-xs))\n",
    "plt.show()"
   ]
  },
  {
   "cell_type": "code",
   "execution_count": 14,
   "metadata": {},
   "outputs": [],
   "source": [
    "def eulerk(alpha,a,b,N,F):\n",
    "    h = (b-a)/N\n",
    "    ys = zeros([N+1,alpha.size])\n",
    "    ys[0] = alpha\n",
    "    xs = arange(a,b+h/2,h)\n",
    "    for i in range(N):\n",
    "        xi=a+i*h\n",
    "        K0=h*F(xi,ys[i])\n",
    "        K1=h*F(xi+h/2,ys[i]+K0/2)\n",
    "        ys[i+1] = ys[i] + K1\n",
    "    return xs,ys"
   ]
  },
  {
   "cell_type": "code",
   "execution_count": 15,
   "metadata": {},
   "outputs": [],
   "source": [
    "def Fnthorder(x,yvec):\n",
    "    res = zeros(yvec.size)\n",
    "    for i in range(yvec.size-1):\n",
    "        res[i] = yvec[i+1]\n",
    "    res[yvec.size-1] = f(x,yvec)\n",
    "    return res"
   ]
  },
  {
   "cell_type": "code",
   "execution_count": 16,
   "metadata": {},
   "outputs": [],
   "source": [
    "def f(x,yvec):\n",
    "    return -yvec[1]\n",
    "\n",
    "alpha=array([0.,1.])\n",
    "\n",
    "xs,ys=eulerk(alpha,0,30,2000,Fnthorder)"
   ]
  },
  {
   "cell_type": "code",
   "execution_count": 17,
   "metadata": {},
   "outputs": [
    {
     "name": "stdout",
     "output_type": "stream",
     "text": [
      "[12.82905151  0.13533955] [9.55287098e+01 1.83167934e-02] [7.05950702e+02 2.47898654e-03]\n",
      "[12.82934671  0.13533528] [9.55330258e+01 1.83156389e-02] [7.05998530e+02 2.47875218e-03]\n"
     ]
    }
   ],
   "source": [
    "def rungekutta4(alpha,a,b,h,F):\n",
    "    N = round((b-a)/h)\n",
    "    ys = zeros([N+1,alpha.size])\n",
    "    ys[0] = alpha\n",
    "    xs = arange(a,b+h,h)\n",
    "    for i in arange(N):\n",
    "        xi = a + i*h  # = xs[i]\n",
    "        yi = ys[i]\n",
    "        K0 = h*F(xi,yi)\n",
    "        K1 = h*F(xi+h/2,yi+K0/2)\n",
    "        K2 = h*F(xi+h/2,yi+K1/2)\n",
    "        K3 = h*F(xi+h,yi+K2)\n",
    "        ys[i+1] = yi + (K0+2*K1+2*K2+K3)/6\n",
    "    return ys[-1]\n",
    "\n",
    "def Integratorf(F,x):\n",
    "    h=0.1\n",
    "    newx = round(x/h)*h\n",
    "    init = array([1.]*2)\n",
    "    return rungekutta4(init,0,newx,h,F)\n",
    "\n",
    "A=array([[2,3],[0,-2]])\n",
    "\n",
    "def ourF(x,y):\n",
    "    return dot(A,y)\n",
    "\n",
    "print (Integratorf(ourF,1),Integratorf(ourF,2),Integratorf(ourF,3))\n",
    "import scipy.linalg as sp\n",
    "print(dot(sp.expm(A),array([1.]*2)), dot(sp.expm(2*A),array([1.]*2)), dot(sp.expm(3*A),array([1.]*2)))"
   ]
  },
  {
   "cell_type": "code",
   "execution_count": 26,
   "metadata": {},
   "outputs": [],
   "source": [
    "def Fnthorder2(x,yvec):\n",
    "    res = zeros(yvec.size)\n",
    "    for i in range(yvec.size-1):\n",
    "        res[i] = yvec[i+1]\n",
    "    res[yvec.size-1] = f(x,yvec)\n",
    "    return res"
   ]
  },
  {
   "cell_type": "code",
   "execution_count": 27,
   "metadata": {},
   "outputs": [],
   "source": [
    "#alpha=array([1.,1.]).T\n",
    "#A=array([[2,3],[0,-2]])\n",
    "#def l(x,yvec):\n",
    " #   return dot(A,yvec[0])\n",
    "#print(Integrator2(Fnthorder2(2,[3])))"
   ]
  }
 ],
 "metadata": {
  "kernelspec": {
   "display_name": "Python 3",
   "language": "python",
   "name": "python3"
  },
  "language_info": {
   "codemirror_mode": {
    "name": "ipython",
    "version": 3
   },
   "file_extension": ".py",
   "mimetype": "text/x-python",
   "name": "python",
   "nbconvert_exporter": "python",
   "pygments_lexer": "ipython3",
   "version": "3.8.3"
  }
 },
 "nbformat": 4,
 "nbformat_minor": 4
}
