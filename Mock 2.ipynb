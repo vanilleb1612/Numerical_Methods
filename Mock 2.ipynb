{
 "cells": [
  {
   "cell_type": "code",
   "execution_count": 1,
   "metadata": {},
   "outputs": [],
   "source": [
    "import matplotlib\n",
    "from matplotlib.pyplot import *\n",
    "from numpy import *\n",
    "import pylab as plt"
   ]
  },
  {
   "cell_type": "code",
   "execution_count": 2,
   "metadata": {},
   "outputs": [],
   "source": [
    "def thenodes(n):\n",
    "    a,b = 0,1\n",
    "    def h(i):\n",
    "        return 1/(i+2)\n",
    "    B = array([[0.]*(n+1)]*(n+1))    # arrays of 0's, with \"0.\" we tell python that these are floating point numbers\n",
    "    u = array([0.]*(n+1))\n",
    "    for k in range(n+1):\n",
    "        u[k] = - h(n+1+k)\n",
    "        for i in range(n+1):\n",
    "            B[k,i] = h(k+i)\n",
    "    cs = linalg.solve(B,u)\n",
    "    cs = append(cs,[1])        # must add last coefficient which is 1 for x^(n+1)\n",
    "    xs = roots(cs[::-1]).real   # roots calculates roots of polynomial, but with inverse order of coefficients (zeros of phi function)\n",
    "    return xs"
   ]
  },
  {
   "cell_type": "code",
   "execution_count": 3,
   "metadata": {},
   "outputs": [
    {
     "name": "stdout",
     "output_type": "stream",
     "text": [
      "[0.66666667]\n"
     ]
    }
   ],
   "source": [
    "print(thenodes(0))"
   ]
  },
  {
   "cell_type": "code",
   "execution_count": 4,
   "metadata": {},
   "outputs": [],
   "source": [
    "n=0 # set the counter of the points inside to zero N=10000 (Chosen or given) # total number of ‘experiments ‘\n",
    "\n",
    "for i in range(N):\n",
    "    n=0 \n",
    "    x = random.uniform(-1,1)\n",
    "    y = random.uniform(-1,1)\n",
    "    z=random.uniform(0,2)#Square taken S\n",
    "    if (x**2+y**2<z): #inside GIVEN FUNCTION LOOKING FOR INTEGRAL\n",
    "        n = n+1 # increase the counter of the points inside\n",
    "p1 = n/N # our estimate for the probability\n",
    "S1 = p1*2*2*2 # our estimate for the area #2*2 square of total area\n",
    "error=2*2*sqrt(p1*(1-p1))/(sqrt(N)) "
   ]
  },
  {
   "cell_type": "code",
   "execution_count": 10,
   "metadata": {},
   "outputs": [
    {
     "name": "stdout",
     "output_type": "stream",
     "text": [
      "2.0\n"
     ]
    }
   ],
   "source": [
    "def euler(h):\n",
    "    N=int(1/h)\n",
    "    ys = zeros([N+1,3])#CHeck 3\n",
    "    ys[0] = [2.,0.,0.]\n",
    "    for i in range(N):\n",
    "        ys[i+1] = ys[i] + h*Fnthorder(i*h,ys[i])\n",
    "    return ys[-1,0]\n",
    "\n",
    "def Fnthorder(x,yvec):\n",
    "    res = zeros(yvec.size)\n",
    "    for i in range(yvec.size-1):\n",
    "        res[i] = yvec[i+1]\n",
    "    res[yvec.size-1] = f(x,yvec)\n",
    "    return res\n",
    "\n",
    "def f(x,yvec): #Given (here y'=x)\n",
    "    return cos(x)+yvec[0]\n",
    "#Given\n",
    "print(euler(1))"
   ]
  },
  {
   "cell_type": "code",
   "execution_count": 26,
   "metadata": {},
   "outputs": [
    {
     "name": "stdout",
     "output_type": "stream",
     "text": [
      "[0. 0. 0.]\n",
      "[0.0, 0.0, 0.0]\n",
      "[0.0, 0.0, 0.0]\n"
     ]
    }
   ],
   "source": [
    "def F(x,yvec):\n",
    "    # your code here\n",
    "    res= [0.]*len(yvec)\n",
    "    res[0]=3*x**2\n",
    "    res[1]=yvec[0]+yvec[2]\n",
    "    res[2]=x\n",
    "    return res\n",
    "yvec1=zeros(3)\n",
    "print(yvec1)\n",
    "print([0.]*len(yvec))\n",
    "print(F(0.,yvec1))"
   ]
  },
  {
   "cell_type": "code",
   "execution_count": 27,
   "metadata": {},
   "outputs": [],
   "source": [
    "def stochastic(T):\n",
    "    dt=0.1\n",
    "    ts = arange(0,T+dt,dt)#Does not include T\n",
    "    N = ts.size\n",
    "    ys = zeros(N)\n",
    "    ys[0]=4\n",
    "    sdt = sqrt(dt) #standard deviation\n",
    "    for i in range(1,N):\n",
    "        ys[i] = ys[i-1] +ts[i-1]**2*dt+ e**(ys[i-1])*random.normal(0,sdt)\n",
    "    return ys[-1]"
   ]
  },
  {
   "cell_type": "code",
   "execution_count": 28,
   "metadata": {},
   "outputs": [],
   "source": [
    "def relaxation(init): #Take average of sorrounding values without extremities\n",
    "    sizex= 11\n",
    "    sizey=11\n",
    "    h=0.1\n",
    "    res = init[:]\n",
    "    for x in range(1,sizex-1):\n",
    "        for y in range(1,sizey-1):\n",
    "            res[x,y] = (init[x-h,y]+init[x+h,y]+init[x,y-h]+init[x,y+h]-5*h**2)/4\n",
    "    return res"
   ]
  },
  {
   "cell_type": "code",
   "execution_count": null,
   "metadata": {},
   "outputs": [],
   "source": []
  }
 ],
 "metadata": {
  "kernelspec": {
   "display_name": "Python 3",
   "language": "python",
   "name": "python3"
  },
  "language_info": {
   "codemirror_mode": {
    "name": "ipython",
    "version": 3
   },
   "file_extension": ".py",
   "mimetype": "text/x-python",
   "name": "python",
   "nbconvert_exporter": "python",
   "pygments_lexer": "ipython3",
   "version": "3.8.3"
  }
 },
 "nbformat": 4,
 "nbformat_minor": 4
}
