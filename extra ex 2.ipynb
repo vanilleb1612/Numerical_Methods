{
 "cells": [
  {
   "cell_type": "code",
   "execution_count": 42,
   "metadata": {},
   "outputs": [],
   "source": [
    "from numpy import *\n",
    "from mpl_toolkits.mplot3d import Axes3D"
   ]
  },
  {
   "cell_type": "code",
   "execution_count": 17,
   "metadata": {},
   "outputs": [],
   "source": [
    "n=0 # set the counter of the points inside to zero N=10000 # total number of ‘experiments ‘\n",
    "N = 10000\n",
    "for i in range(N):\n",
    "    x = random.uniform(-1,1)\n",
    "    y = random.uniform(-1,1)\n",
    "    if (x**2+2*y**2<1): #inside\n",
    "        n = n+1 # increase the counter of the points inside\n",
    "p1 = n/N # our estimate for the probability\n",
    "S1 = p1*4 # our estimate for the area\n",
    "error=4*sqrt(p1*(1-p1))/(sqrt(N)) # error of the approximation"
   ]
  },
  {
   "cell_type": "code",
   "execution_count": 18,
   "metadata": {},
   "outputs": [
    {
     "data": {
      "text/plain": [
       "0.011841469079183042"
      ]
     },
     "execution_count": 18,
     "metadata": {},
     "output_type": "execute_result"
    }
   ],
   "source": [
    "pi/(sqrt(2))-S1"
   ]
  },
  {
   "cell_type": "code",
   "execution_count": 6,
   "metadata": {},
   "outputs": [
    {
     "data": {
      "image/png": "[encoded data removed]",
      "text/plain": [
       "<Figure size 432x288 with 1 Axes>"
      ]
     },
     "metadata": {
      "needs_background": "light"
     },
     "output_type": "display_data"
    }
   ],
   "source": [
    "from matplotlib.pyplot import *\n",
    "inx = []\n",
    "iny = []\n",
    "outx = []\n",
    "outy = []\n",
    "for i in range(100000):\n",
    "    x = random.uniform(-1,1)\n",
    "    y = random.uniform(-1,1)\n",
    "    if (x**2+2*y**2<1): #inside\n",
    "        inx.append(x)\n",
    "        iny.append(y)\n",
    "    else:\n",
    "        outx.append(x)\n",
    "        outy.append(y)\n",
    "scatter(inx,iny)\n",
    "#scatter(outx,outy)\n",
    "show()"
   ]
  },
  {
   "cell_type": "code",
   "execution_count": 21,
   "metadata": {},
   "outputs": [],
   "source": [
    "n=0 # set the counter of the points inside to zero N=10000 # total number of ‘experiments ‘\n",
    "N = 10000\n",
    "for i in range(N):\n",
    "    x = random.uniform(-3,3)\n",
    "    y = random.uniform(-3,3)\n",
    "    z = random.uniform(-2,2)\n",
    "    if (x**2+y**2-z**2<1 and z<2 and z>-2): #inside\n",
    "        n = n+1 # increase the counter of the points inside\n",
    "p1 = n/N # our estimate for the probability\n",
    "S1 = p1*6*6*4 # our estimate for the area\n",
    "error=6*6*4*sqrt(p1*(1-p1))/(sqrt(N)) # error of the approximation"
   ]
  },
  {
   "cell_type": "code",
   "execution_count": 22,
   "metadata": {},
   "outputs": [
    {
     "data": {
      "text/plain": [
       "-0.24793143350473557"
      ]
     },
     "execution_count": 22,
     "metadata": {},
     "output_type": "execute_result"
    }
   ],
   "source": [
    "S1-28*pi/3"
   ]
  },
  {
   "cell_type": "code",
   "execution_count": 38,
   "metadata": {},
   "outputs": [
    {
     "ename": "AttributeError",
     "evalue": "'list' object has no attribute 'has_data'",
     "output_type": "error",
     "traceback": [
      "\u001b[0;31m---------------------------------------------------------------------------\u001b[0m",
      "\u001b[0;31mAttributeError\u001b[0m                            Traceback (most recent call last)",
      "\u001b[0;32m<ipython-input-38-29908e973518>\u001b[0m in \u001b[0;36m<module>\u001b[0;34m\u001b[0m\n\u001b[1;32m     18\u001b[0m         \u001b[0mouty\u001b[0m\u001b[0;34m.\u001b[0m\u001b[0mappend\u001b[0m\u001b[0;34m(\u001b[0m\u001b[0my\u001b[0m\u001b[0;34m)\u001b[0m\u001b[0;34m\u001b[0m\u001b[0;34m\u001b[0m\u001b[0m\n\u001b[1;32m     19\u001b[0m         \u001b[0moutz\u001b[0m\u001b[0;34m.\u001b[0m\u001b[0mappend\u001b[0m\u001b[0;34m(\u001b[0m\u001b[0mz\u001b[0m\u001b[0;34m)\u001b[0m\u001b[0;34m\u001b[0m\u001b[0;34m\u001b[0m\u001b[0m\n\u001b[0;32m---> 20\u001b[0;31m \u001b[0mAxes3D\u001b[0m\u001b[0;34m.\u001b[0m\u001b[0mscatter\u001b[0m\u001b[0;34m(\u001b[0m\u001b[0minx\u001b[0m\u001b[0;34m,\u001b[0m \u001b[0miny\u001b[0m\u001b[0;34m,\u001b[0m \u001b[0minz\u001b[0m\u001b[0;34m)\u001b[0m\u001b[0;34m\u001b[0m\u001b[0;34m\u001b[0m\u001b[0m\n\u001b[0m\u001b[1;32m     21\u001b[0m \u001b[0mAxes3D\u001b[0m\u001b[0;34m.\u001b[0m\u001b[0mscatter\u001b[0m\u001b[0;34m(\u001b[0m\u001b[0moutx\u001b[0m\u001b[0;34m,\u001b[0m \u001b[0mouty\u001b[0m\u001b[0;34m,\u001b[0m \u001b[0moutz\u001b[0m\u001b[0;34m)\u001b[0m\u001b[0;34m\u001b[0m\u001b[0;34m\u001b[0m\u001b[0m\n\u001b[1;32m     22\u001b[0m \u001b[0;31m#scatter(inx, iny, inz, depthshade=True)\u001b[0m\u001b[0;34m\u001b[0m\u001b[0;34m\u001b[0m\u001b[0;34m\u001b[0m\u001b[0m\n",
      "\u001b[0;32m~/opt/anaconda3/lib/python3.8/site-packages/mpl_toolkits/mplot3d/axes3d.py\u001b[0m in \u001b[0;36mscatter\u001b[0;34m(self, xs, ys, zs, zdir, s, c, depthshade, *args, **kwargs)\u001b[0m\n\u001b[1;32m   2229\u001b[0m         \"\"\"\n\u001b[1;32m   2230\u001b[0m \u001b[0;34m\u001b[0m\u001b[0m\n\u001b[0;32m-> 2231\u001b[0;31m         \u001b[0mhad_data\u001b[0m \u001b[0;34m=\u001b[0m \u001b[0mself\u001b[0m\u001b[0;34m.\u001b[0m\u001b[0mhas_data\u001b[0m\u001b[0;34m(\u001b[0m\u001b[0;34m)\u001b[0m\u001b[0;34m\u001b[0m\u001b[0;34m\u001b[0m\u001b[0m\n\u001b[0m\u001b[1;32m   2232\u001b[0m \u001b[0;34m\u001b[0m\u001b[0m\n\u001b[1;32m   2233\u001b[0m         xs, ys, zs = np.broadcast_arrays(\n",
      "\u001b[0;31mAttributeError\u001b[0m: 'list' object has no attribute 'has_data'"
     ]
    }
   ],
   "source": [
    "from matplotlib.pyplot import *\n",
    "inx = []\n",
    "iny = []\n",
    "inz=[]\n",
    "outx = []\n",
    "outy = []\n",
    "outz=[]\n",
    "for i in range(100000):\n",
    "    x = random.uniform(-3,3)\n",
    "    y = random.uniform(-3,3)\n",
    "    z = random.uniform(-2,2)\n",
    "    if (x**2+y**2-z**2<1 and z<2 and z>-2): #inside\n",
    "        inx.append(x)\n",
    "        iny.append(y)\n",
    "        inz.append(z)\n",
    "    else:\n",
    "        outx.append(x)\n",
    "        outy.append(y)\n",
    "        outz.append(z)\n",
    "Axes3D.scatter(inx, iny, inz)\n",
    "Axes3D.scatter(outx, outy, outz)\n",
    "#scatter(inx, iny, inz, depthshade=True)\n",
    "#scatter(outx, outy, outz, depthshade=True)\n",
    "#scatter(inx,iny,inz)\n",
    "#scatter(outx,outy,outz)\n",
    "show()"
   ]
  },
  {
   "cell_type": "code",
   "execution_count": 43,
   "metadata": {},
   "outputs": [],
   "source": [
    "def w(x):                           #Given\n",
    "    return math.exp(-x)\n",
    "\n",
    "a=0\n",
    "b=inf"
   ]
  },
  {
   "cell_type": "code",
   "execution_count": 44,
   "metadata": {},
   "outputs": [],
   "source": [
    "from scipy import integrate\n",
    "def h(k):\n",
    "    return integrate.quad(lambda x: w(x)*x**k,a,b)[0]"
   ]
  },
  {
   "cell_type": "code",
   "execution_count": 46,
   "metadata": {},
   "outputs": [
    {
     "data": {
      "text/plain": [
       "6.0"
      ]
     },
     "execution_count": 46,
     "metadata": {},
     "output_type": "execute_result"
    }
   ],
   "source": [
    "h(3)"
   ]
  },
  {
   "cell_type": "code",
   "execution_count": 60,
   "metadata": {},
   "outputs": [],
   "source": [
    "def nodesAndWeights(n):\n",
    "    # finding xi\n",
    "    B = array([[0.]*(n+1)]*(n+1))    # arrays of 0's, with \"0.\" we tell python that these are floating point numbers\n",
    "    u = array([0.]*(n+1))\n",
    "    for k in range(n+1):\n",
    "        u[k] = - h(n+1+k)\n",
    "        for i in range(n+1):\n",
    "            B[k,i] = h(k+i)\n",
    "    cs = linalg.solve(B,u)\n",
    "    cs = append(cs,[1])        # must add last coefficient which is 1\n",
    "    xs = roots(cs[::-1]).real   # roots calculats roots of polynomial, but with inverse order of coefficients\n",
    "    # finding Ai\n",
    "    As = array([0.]*(n+1))\n",
    "    for k in range(n+1):\n",
    "        u[k] = h(k)\n",
    "        for i in range(n+1):\n",
    "            B[k,i] = xs[i]**k\n",
    "    As = linalg.solve(B,u)\n",
    "    return xs, As"
   ]
  },
  {
   "cell_type": "code",
   "execution_count": 54,
   "metadata": {},
   "outputs": [
    {
     "name": "stdout",
     "output_type": "stream",
     "text": [
      "n=0 (array([1.]), array([1.])) n=1 (array([3.41421356, 0.58578644]), array([0.14644661, 0.85355339]))\n"
     ]
    }
   ],
   "source": [
    "print(\"n=0\",nodesAndWeights(0),\"n=1\",nodesAndWeights(1))"
   ]
  },
  {
   "cell_type": "code",
   "execution_count": 63,
   "metadata": {},
   "outputs": [
    {
     "data": {
      "text/plain": [
       "0.49602982748056323"
      ]
     },
     "execution_count": 63,
     "metadata": {},
     "output_type": "execute_result"
    }
   ],
   "source": [
    "def f(n):\n",
    "    # finding xi\n",
    "    B = array([[0.]*(n+1)]*(n+1))    # arrays of 0's, with \"0.\" we tell python that these are floating point numbers\n",
    "    u = array([0.]*(n+1))\n",
    "    for k in range(n+1):\n",
    "        u[k] = - h(n+1+k)\n",
    "        for i in range(n+1):\n",
    "            B[k,i] = h(k+i)\n",
    "    cs = linalg.solve(B,u)\n",
    "    cs = append(cs,[1])        # must add last coefficient which is 1\n",
    "    xs = roots(cs[::-1]).real   # roots calculats roots of polynomial, but with inverse order of coefficients\n",
    "    # finding Ai\n",
    "    As = array([0.]*(n+1))\n",
    "    for k in range(n+1):\n",
    "        u[k] = h(k)\n",
    "        for i in range(n+1):\n",
    "            B[k,i] = xs[i]**k\n",
    "    As = linalg.solve(B,u)\n",
    "    return sum(As*sin(xs))"
   ]
  },
  {
   "cell_type": "code",
   "execution_count": 65,
   "metadata": {},
   "outputs": [
    {
     "name": "stdout",
     "output_type": "stream",
     "text": [
      "0.3414709848078965\n",
      "-0.06754054532015613\n",
      "-0.003970172519436765\n",
      "0.00487927946019906\n",
      "-0.0010966790439331797\n",
      "4.947479765515794e-05\n",
      "3.8911994807322436e-05\n",
      "-1.2246264152249164e-05\n",
      "1.352425765155374e-06\n",
      "2.0499510755556116e-07\n"
     ]
    }
   ],
   "source": [
    "for i in range(10):\n",
    "    print(f(i)-1/2)"
   ]
  },
  {
   "cell_type": "code",
   "execution_count": null,
   "metadata": {},
   "outputs": [],
   "source": []
  }
 ],
 "metadata": {
  "kernelspec": {
   "display_name": "Python 3",
   "language": "python",
   "name": "python3"
  },
  "language_info": {
   "codemirror_mode": {
    "name": "ipython",
    "version": 3
   },
   "file_extension": ".py",
   "mimetype": "text/x-python",
   "name": "python",
   "nbconvert_exporter": "python",
   "pygments_lexer": "ipython3",
   "version": "3.8.3"
  }
 },
 "nbformat": 4,
 "nbformat_minor": 4
}
