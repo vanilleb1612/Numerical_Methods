{
 "cells": [
  {
   "cell_type": "code",
   "execution_count": 1,
   "metadata": {},
   "outputs": [],
   "source": [
    "import matplotlib\n",
    "from matplotlib.pyplot import *\n",
    "from numpy import *\n",
    "import pylab as plt"
   ]
  },
  {
   "cell_type": "code",
   "execution_count": 5,
   "metadata": {},
   "outputs": [
    {
     "name": "stdout",
     "output_type": "stream",
     "text": [
      "0.700000000000001\n"
     ]
    },
    {
     "data": {
      "text/plain": [
       "[<matplotlib.lines.Line2D at 0x7ff373ed9f10>]"
      ]
     },
     "execution_count": 5,
     "metadata": {},
     "output_type": "execute_result"
    },
    {
     "data": {
      "image/png": "[encoded data removed]",
      "text/plain": [
       "<Figure size 432x288 with 1 Axes>"
      ]
     },
     "metadata": {
      "needs_background": "light"
     },
     "output_type": "display_data"
    }
   ],
   "source": [
    "#Quizz 8\n",
    "\n",
    "def rungekutta(alpha,a,b,N,F):\n",
    "    h = (b-a)/N\n",
    "    ys = zeros([N+1,alpha.size])\n",
    "    ys[0] = alpha\n",
    "    xs = arange(a,b+h,h)\n",
    "    for i in range(N):\n",
    "        ys[i+1] = ys[i] + h/2*(F(a + i*h, ys[i]) + F(a + i*h + h, ys[i]+h*F(a + i*h, ys[i])))\n",
    "    return xs,ys\n",
    "\n",
    "def Fnthorder(x,yvec):\n",
    "    res = zeros(yvec.size)\n",
    "    for i in range(yvec.size-1):\n",
    "        res[i] = yvec[i+1]\n",
    "    res[yvec.size-1] = f(x,yvec)\n",
    "    return res\n",
    "\n",
    "def secant(f,x0,xm1):\n",
    "    xs=[xm1,x0]\n",
    "    for i in range(3):\n",
    "        xs.append( (xs[-1]*f(xs[-2])-xs[-2]*f(xs[-1])) / (f(xs[-2])-f(xs[-1])) )\n",
    "    return xs\n",
    "\n",
    "# these are the appropriate values for the \"boundary conditions\"\n",
    "a=0\n",
    "b=2\n",
    "c=4\n",
    "alpha=1\n",
    "beta=0.5\n",
    "gamma=0.7\n",
    "\n",
    "# you must define f properly here\n",
    "def f(x,yvec):\n",
    "    return -yvec[0]\n",
    "\n",
    "def G2(u2):\n",
    "    def G1(u1):\n",
    "        xs,ys = rungekutta(array([alpha,u1,u2]),a,b,2000,Fnthorder)\n",
    "     # y(a) = y(0) = alpha, y'(a) = y'(0) = u\n",
    "        return ys[-1,0] - beta\n",
    "    u1sol = secant(G1,0,1)[-1]# ys[n,i] where n indentifies the position, and i identifies y or y'\n",
    "    xs,ys = rungekutta(array([alpha,u1sol,u2]),a,c,2000,Fnthorder)\n",
    "     # y(a) = y(0) = alpha, y'(a) = y'(0) = u\n",
    "    return ys[-1,0] - gamma  # ys[n,i] where n indentifies the position, and i identifies y or y'\n",
    "u2sol = secant(G2,0,1)[-1] # solving for y(b) = beta\n",
    "\n",
    "def G1(u1):\n",
    "    xs,ys = rungekutta(array([alpha,u1,u2sol]),a,b,2000,Fnthorder)\n",
    "     # y(a) = y(0) = alpha, y'(a) = y'(0) = u\n",
    "    return ys[-1,0] - beta\n",
    "u1sol = secant(G1,0,1)[-1]# ys[n,i] where n indentifies the position, and i identifies y or y'\n",
    "\n",
    "xs,ys = rungekutta(array([alpha,u1sol,u2sol]),a,c,2000,Fnthorder)\n",
    "\n",
    "# then write an appropriate code that set ys[:,0] to the correct numerical solution,\n",
    "# and xs to the list of x values.\n",
    "print(ys[-1,0])\n",
    "\n",
    "plt.plot(xs,ys[:,0])"
   ]
  },
  {
   "cell_type": "code",
   "execution_count": 10,
   "metadata": {},
   "outputs": [],
   "source": [
    "#Quizz 9\n",
    "\n",
    "def stochastic(T):\n",
    "    dt=0.001\n",
    "    ts = arange(0,T,dt)\n",
    "    N = ts.size\n",
    "    xs = zeros(N)\n",
    "    xs[0]=0\n",
    "    sdt= sqrt(dt)\n",
    "    for i in range(1,N):\n",
    "        xs[i] = xs[i-1] +xs[i-1]**2*dt+ ts[i-1]*random.normal(0,sdt)\n",
    "    # put the right code here\n",
    "    return ts,xs\n",
    "\n",
    "ts,xs = stochastic(1) # use your function here"
   ]
  },
  {
   "cell_type": "code",
   "execution_count": 14,
   "metadata": {},
   "outputs": [],
   "source": [
    "sizex = 15\n",
    "sizey = 15\n",
    "\n",
    "def relaxation(init):\n",
    "    res = init[:]\n",
    "    for x in range(1,sizex-1):\n",
    "        for y in range(1,sizey-1):\n",
    "            res[x,y] = (init[x-1,y]+init[x+1,y]+3*init[x,y-1]+3*init[x,y+1])/8\n",
    "    return res\n",
    "\n",
    "\n",
    "solution = array([[1.]*sizey]*sizex) # this initial value does not matter\n",
    "\n",
    "for i in range(15):\n",
    "    solution[i,14]=solution[14,i]=2\n",
    "    solution[0,i]=solution[i,0]=1\n",
    "    # here we put the right boundary conditions\n",
    "\n",
    "for i in range(20):\n",
    "    solution=relaxation(solution)\n",
    "    # 20-step interation"
   ]
  },
  {
   "cell_type": "code",
   "execution_count": 17,
   "metadata": {},
   "outputs": [
    {
     "name": "stdout",
     "output_type": "stream",
     "text": [
      "[0.9428958  0.72315699 0.41640957 0.13975986]\n"
     ]
    }
   ],
   "source": [
    "#Question 1\n",
    "a,b = 0,1 #Define beg and end of integration\n",
    "\n",
    "\n",
    "from scipy import integrate\n",
    "def h(i): #Find h(k)s\n",
    "    return 1/(i+2)\n",
    "\n",
    "def thenodes(n):\n",
    "    # finding xi\n",
    "    B = array([[0.]*(n+1)]*(n+1))    # arrays of 0's, with \"0.\" we tell python that these are floating point numbers\n",
    "    u = array([0.]*(n+1))\n",
    "    for k in range(n+1):\n",
    "        u[k] = - h(n+1+k)\n",
    "        for i in range(n+1):\n",
    "            B[k,i] = h(k+i)\n",
    "    cs = linalg.solve(B,u)\n",
    "    cs = append(cs,[1])        # must add last coefficient which is 1 for x^(n+1)\n",
    "    xs = roots(cs[::-1]).real   # roots calculates roots of polynomial, but with inverse order of coefficients (zeros of phi function)\n",
    "    # finding Ai\n",
    "    As = array([0.]*(n+1))\n",
    "    for m in range(n+1): #m was written as k but in notes is m\n",
    "        u[m] = h(m)\n",
    "    return xs\n",
    "print(thenodes(3))"
   ]
  },
  {
   "cell_type": "code",
   "execution_count": 18,
   "metadata": {},
   "outputs": [],
   "source": [
    "#Question 2\n",
    "n=0 # set the counter of the points inside to zero N=10000 (Chosen or given) # total number of ‘experiments ‘\n",
    "N = 10000\n",
    "def mc(N):\n",
    "    for i in range(N):\n",
    "        x = random.uniform(-2,2)\n",
    "        y = random.uniform(-2,2)#Square taken S\n",
    "        if (x**2+y**2<1): #inside GIVEN FUNCTION LOOKING FOR INTEGRAL\n",
    "            n = n+1 # increase the counter of the points inside\n",
    "    p1 = n/N # our estimate for the probability\n",
    "    S1 = p1*4*4 # our estimate for the area #2*2 square of total area\n",
    "    error=4*4*sqrt(p1*(1-p1))/(sqrt(N)) # error of the approximation Sxsqrt(S1xS2/N)"
   ]
  },
  {
   "cell_type": "code",
   "execution_count": 71,
   "metadata": {},
   "outputs": [],
   "source": [
    "#Question 3\n",
    "def euler(h):\n",
    "    N=int(1/h)\n",
    "    ys = zeros([N+1,alpha.size])\n",
    "    ys[0] = array([2.,0.,0.])\n",
    "    xs = arange(1+h,h)\n",
    "    for i in range(N):\n",
    "        ys[i+1] = ys[i] + h*F(a+i*h,ys[i])\n",
    "    return xs,ys\n",
    "\n",
    "def Fnthorder(x,yvec):\n",
    "    res = zeros(yvec.size)\n",
    "    for i in range(yvec.size-1):\n",
    "        res[i] = yvec[i+1]\n",
    "    res[yvec.size-1] = f(x,yvec)\n",
    "    return res\n",
    "\n",
    "def f(x,yvec):\n",
    "    return cos(x)+y[0]"
   ]
  },
  {
   "cell_type": "code",
   "execution_count": 72,
   "metadata": {},
   "outputs": [],
   "source": [
    "#Question 4\n",
    "def F(x,yvec):\n",
    "    res=zeros(3)\n",
    "    res[0]=3*x**2\n",
    "    res[1]=yvec[0]+yvec[2]\n",
    "    res[2]= x\n",
    "    return res"
   ]
  },
  {
   "cell_type": "code",
   "execution_count": 51,
   "metadata": {},
   "outputs": [
    {
     "name": "stdout",
     "output_type": "stream",
     "text": [
      "The result at T=0 is 4.0\n"
     ]
    }
   ],
   "source": [
    "#Question 5\n",
    "def stochastic(T):#a(x)=0, b(x)=sigma\n",
    "    dt=0.1\n",
    "    ts = arange(0,T+dt,dt)\n",
    "    N = ts.size\n",
    "    ys = zeros(N)\n",
    "    ys[0]=4\n",
    "    sdt = sqrt(dt) #standard deviation\n",
    "    for i in range(1,N):\n",
    "        ys[i] = ys[i-1] + ts[i-1]**2*dt +e*(ys[i-1])* random.normal(0,sdt)\n",
    "    return ys[-1]\n",
    "\n",
    "print(\"The result at T=0 is\",stochastic(0))"
   ]
  },
  {
   "cell_type": "code",
   "execution_count": 67,
   "metadata": {},
   "outputs": [],
   "source": [
    "#Question 6\n",
    "sizex=11\n",
    "sizey=11\n",
    "\n",
    "def relaxation(init):#Take average of sorrounding values without extremities\n",
    "    res = init[:]\n",
    "    h=0.1\n",
    "    for x in range(1,sizex-1):\n",
    "        for y in range(1,sizey-1):\n",
    "            res[x,y] = (init[x-h,y]+init[x+h,y]+init[x,y-h]+init[x,y+h]-5*h**2)/4\n",
    "    return res"
   ]
  },
  {
   "cell_type": "code",
   "execution_count": 61,
   "metadata": {},
   "outputs": [
    {
     "name": "stdout",
     "output_type": "stream",
     "text": [
      "2.7032\n"
     ]
    }
   ],
   "source": [
    "#SOLUTION Question 7\n",
    "def mc(N):\n",
    "    n=0\n",
    "    for i in range(N):\n",
    "        x = random.uniform(-1,1)\n",
    "        y = random.uniform(-1,1)\n",
    "        z = random.uniform(0,2)\n",
    "        if (z<x**2+y**2):\n",
    "            n = n+1\n",
    "    return n*8/N\n",
    "print(mc(10000))"
   ]
  },
  {
   "cell_type": "code",
   "execution_count": 60,
   "metadata": {},
   "outputs": [
    {
     "name": "stdout",
     "output_type": "stream",
     "text": [
      "2.7208\n"
     ]
    }
   ],
   "source": [
    "#Question 7\n",
    "n=0 # set the counter of the points inside to zero N=10000 (Chosen or given) # total number of ‘experiments ‘\n",
    "N = 10000\n",
    "def mc1(N):\n",
    "    for i in range(N):\n",
    "        x = random.uniform(-1,1)\n",
    "        y = random.uniform(-1,1)#Square taken S\n",
    "        if (x**2+y**2<1): #inside GIVEN FUNCTION LOOKING FOR INTEGRAL\n",
    "            n = n+1 # increase the counter of the points inside\n",
    "    p1 = n/N # our estimate for the probability\n",
    "    S1 = p1*4*4 # our estimate for the area #2*2 square of total area\n",
    "    error=4*4*sqrt(p1*(1-p1))/(sqrt(N))\n",
    "print(mc(10000))"
   ]
  },
  {
   "cell_type": "code",
   "execution_count": null,
   "metadata": {},
   "outputs": [],
   "source": []
  }
 ],
 "metadata": {
  "kernelspec": {
   "display_name": "Python 3",
   "language": "python",
   "name": "python3"
  },
  "language_info": {
   "codemirror_mode": {
    "name": "ipython",
    "version": 3
   },
   "file_extension": ".py",
   "mimetype": "text/x-python",
   "name": "python",
   "nbconvert_exporter": "python",
   "pygments_lexer": "ipython3",
   "version": "3.8.3"
  }
 },
 "nbformat": 4,
 "nbformat_minor": 4
}
